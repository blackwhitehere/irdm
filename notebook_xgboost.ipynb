{
 "cells": [
  {
   "cell_type": "markdown",
   "metadata": {},
   "source": [
    "# XGBoost"
   ]
  },
  {
   "cell_type": "code",
   "execution_count": 1,
   "metadata": {
    "collapsed": true
   },
   "outputs": [],
   "source": [
    "# Load libraries \n",
    "# Data processing \n",
    "import pandas as pd\n",
    "\n",
    "# Statistics\n",
    "import scipy as sp\n",
    "import numpy as np\n",
    "import statsmodels\n",
    "import statsmodels.api as sm\n",
    "from statsmodels.graphics.api import qqplot\n",
    "\n",
    "# Machine learning & Deep learning\n",
    "from sklearn import ensemble\n",
    "from sklearn import preprocessing\n",
    "from sklearn import manifold\n",
    "from sklearn.cross_validation import KFold\n",
    "import xgboost as xgb\n",
    "\n",
    "# Grid Search & Cross Validation\n",
    "from sklearn import cross_validation\n",
    "from sklearn.grid_search import GridSearchCV\n",
    "\n",
    "# Plotting\n",
    "import matplotlib.pyplot as plt\n",
    "import seaborn as sns\n",
    "sns.set_style('darkgrid')\n",
    "%matplotlib inline\n",
    "\n",
    "dark_colors = [\"#99D699\", \"#B2B2B2\",\n",
    "                (0.8509803921568627, 0.37254901960784315, 0.00784313725490196),\n",
    "                (0.4588235294117647, 0.4392156862745098, 0.7019607843137254),\n",
    "                (0.9058823529411765, 0.1607843137254902, 0.5411764705882353),\n",
    "                (0.4, 0.6509803921568628, 0.11764705882352941),\n",
    "                (0.9019607843137255, 0.6705882352941176, 0.00784313725490196),\n",
    "                (0.6509803921568628, 0.4627450980392157, 0.11372549019607843),\n",
    "                (0.4, 0.4, 0.4)]"
   ]
  },
  {
   "cell_type": "markdown",
   "metadata": {},
   "source": [
    "### Import dataset and make it into DataFrame"
   ]
  },
  {
   "cell_type": "code",
   "execution_count": 2,
   "metadata": {
    "collapsed": false
   },
   "outputs": [
    {
     "data": {
      "text/html": [
       "<div>\n",
       "<table border=\"1\" class=\"dataframe\">\n",
       "  <thead>\n",
       "    <tr style=\"text-align: right;\">\n",
       "      <th></th>\n",
       "      <th>Date</th>\n",
       "      <th>Corn</th>\n",
       "      <th>Ethanol</th>\n",
       "      <th>Crude Oil</th>\n",
       "      <th>Live Cattle</th>\n",
       "      <th>ADM</th>\n",
       "      <th>Bunge</th>\n",
       "      <th>Con Agra</th>\n",
       "      <th>Green Plains</th>\n",
       "      <th>Wheat</th>\n",
       "      <th>Soyabean</th>\n",
       "    </tr>\n",
       "    <tr>\n",
       "      <th>Date</th>\n",
       "      <th></th>\n",
       "      <th></th>\n",
       "      <th></th>\n",
       "      <th></th>\n",
       "      <th></th>\n",
       "      <th></th>\n",
       "      <th></th>\n",
       "      <th></th>\n",
       "      <th></th>\n",
       "      <th></th>\n",
       "      <th></th>\n",
       "    </tr>\n",
       "  </thead>\n",
       "  <tbody>\n",
       "    <tr>\n",
       "      <th>2006-03-31</th>\n",
       "      <td>31/03/06</td>\n",
       "      <td>227.25</td>\n",
       "      <td>2.43</td>\n",
       "      <td>61.95</td>\n",
       "      <td>87.35</td>\n",
       "      <td>31.72</td>\n",
       "      <td>56.79</td>\n",
       "      <td>21.14</td>\n",
       "      <td>59.97</td>\n",
       "      <td>367.50</td>\n",
       "      <td>580.00</td>\n",
       "    </tr>\n",
       "    <tr>\n",
       "      <th>2006-04-30</th>\n",
       "      <td>30/04/06</td>\n",
       "      <td>235.25</td>\n",
       "      <td>2.62</td>\n",
       "      <td>66.30</td>\n",
       "      <td>79.50</td>\n",
       "      <td>34.75</td>\n",
       "      <td>55.71</td>\n",
       "      <td>21.50</td>\n",
       "      <td>33.75</td>\n",
       "      <td>344.50</td>\n",
       "      <td>570.50</td>\n",
       "    </tr>\n",
       "    <tr>\n",
       "      <th>2006-05-31</th>\n",
       "      <td>31/05/06</td>\n",
       "      <td>237.25</td>\n",
       "      <td>2.72</td>\n",
       "      <td>71.98</td>\n",
       "      <td>73.65</td>\n",
       "      <td>36.85</td>\n",
       "      <td>53.18</td>\n",
       "      <td>22.64</td>\n",
       "      <td>41.00</td>\n",
       "      <td>349.00</td>\n",
       "      <td>585.00</td>\n",
       "    </tr>\n",
       "    <tr>\n",
       "      <th>2006-06-30</th>\n",
       "      <td>30/06/06</td>\n",
       "      <td>251.25</td>\n",
       "      <td>3.98</td>\n",
       "      <td>70.25</td>\n",
       "      <td>79.75</td>\n",
       "      <td>42.22</td>\n",
       "      <td>56.63</td>\n",
       "      <td>22.60</td>\n",
       "      <td>35.00</td>\n",
       "      <td>394.25</td>\n",
       "      <td>580.25</td>\n",
       "    </tr>\n",
       "    <tr>\n",
       "      <th>2006-07-31</th>\n",
       "      <td>31/07/06</td>\n",
       "      <td>239.25</td>\n",
       "      <td>3.22</td>\n",
       "      <td>73.26</td>\n",
       "      <td>85.80</td>\n",
       "      <td>41.70</td>\n",
       "      <td>50.26</td>\n",
       "      <td>22.15</td>\n",
       "      <td>34.85</td>\n",
       "      <td>371.50</td>\n",
       "      <td>602.50</td>\n",
       "    </tr>\n",
       "  </tbody>\n",
       "</table>\n",
       "</div>"
      ],
      "text/plain": [
       "                Date    Corn  Ethanol  Crude Oil  Live Cattle    ADM  Bunge  \\\n",
       "Date                                                                          \n",
       "2006-03-31  31/03/06  227.25     2.43      61.95        87.35  31.72  56.79   \n",
       "2006-04-30  30/04/06  235.25     2.62      66.30        79.50  34.75  55.71   \n",
       "2006-05-31  31/05/06  237.25     2.72      71.98        73.65  36.85  53.18   \n",
       "2006-06-30  30/06/06  251.25     3.98      70.25        79.75  42.22  56.63   \n",
       "2006-07-31  31/07/06  239.25     3.22      73.26        85.80  41.70  50.26   \n",
       "\n",
       "            Con Agra  Green Plains   Wheat  Soyabean  \n",
       "Date                                                  \n",
       "2006-03-31     21.14         59.97  367.50    580.00  \n",
       "2006-04-30     21.50         33.75  344.50    570.50  \n",
       "2006-05-31     22.64         41.00  349.00    585.00  \n",
       "2006-06-30     22.60         35.00  394.25    580.25  \n",
       "2006-07-31     22.15         34.85  371.50    602.50  "
      ]
     },
     "execution_count": 2,
     "metadata": {},
     "output_type": "execute_result"
    }
   ],
   "source": [
    "# import dataset\n",
    "data = pd.read_csv('/home/stan/Documents/dev/Time_Series/10YearsFeaturesCorn.csv')\n",
    "data.index = pd.to_datetime(data['Date'])\n",
    "data.sort_index(inplace=True, ascending=True)\n",
    "data.head()"
   ]
  },
  {
   "cell_type": "code",
   "execution_count": 90,
   "metadata": {
    "collapsed": false
   },
   "outputs": [
    {
     "data": {
      "text/plain": [
       "(120, 11)"
      ]
     },
     "execution_count": 90,
     "metadata": {},
     "output_type": "execute_result"
    }
   ],
   "source": [
    "data.shape"
   ]
  },
  {
   "cell_type": "markdown",
   "metadata": {},
   "source": [
    "Split date information into 3 columns"
   ]
  },
  {
   "cell_type": "code",
   "execution_count": 94,
   "metadata": {
    "collapsed": false
   },
   "outputs": [],
   "source": [
    "data['Day'] = data['Date'].str.split('/').apply(lambda x: float(x[0]))\n",
    "data['Month'] = data['Date'].str.split('/').apply(lambda x: float(x[1]))\n",
    "data['Year'] = data['Date'].str.split('/').apply(lambda x: float(x[2]))"
   ]
  },
  {
   "cell_type": "code",
   "execution_count": 95,
   "metadata": {
    "collapsed": false
   },
   "outputs": [
    {
     "data": {
      "text/html": [
       "<div>\n",
       "<table border=\"1\" class=\"dataframe\">\n",
       "  <thead>\n",
       "    <tr style=\"text-align: right;\">\n",
       "      <th></th>\n",
       "      <th>Date</th>\n",
       "      <th>Corn</th>\n",
       "      <th>Ethanol</th>\n",
       "      <th>Crude Oil</th>\n",
       "      <th>Live Cattle</th>\n",
       "      <th>ADM</th>\n",
       "      <th>Bunge</th>\n",
       "      <th>Con Agra</th>\n",
       "      <th>Green Plains</th>\n",
       "      <th>Wheat</th>\n",
       "      <th>Soyabean</th>\n",
       "      <th>Day</th>\n",
       "      <th>Month</th>\n",
       "      <th>Year</th>\n",
       "    </tr>\n",
       "    <tr>\n",
       "      <th>Date</th>\n",
       "      <th></th>\n",
       "      <th></th>\n",
       "      <th></th>\n",
       "      <th></th>\n",
       "      <th></th>\n",
       "      <th></th>\n",
       "      <th></th>\n",
       "      <th></th>\n",
       "      <th></th>\n",
       "      <th></th>\n",
       "      <th></th>\n",
       "      <th></th>\n",
       "      <th></th>\n",
       "      <th></th>\n",
       "    </tr>\n",
       "  </thead>\n",
       "  <tbody>\n",
       "    <tr>\n",
       "      <th>2015-10-31</th>\n",
       "      <td>31/10/15</td>\n",
       "      <td>387.75</td>\n",
       "      <td>1.57</td>\n",
       "      <td>48.40</td>\n",
       "      <td>124.00</td>\n",
       "      <td>41.69</td>\n",
       "      <td>73.43</td>\n",
       "      <td>40.48</td>\n",
       "      <td>19.69</td>\n",
       "      <td>512.00</td>\n",
       "      <td>891.50</td>\n",
       "      <td>31</td>\n",
       "      <td>10</td>\n",
       "      <td>15</td>\n",
       "    </tr>\n",
       "    <tr>\n",
       "      <th>2015-11-30</th>\n",
       "      <td>30/11/15</td>\n",
       "      <td>381.25</td>\n",
       "      <td>1.61</td>\n",
       "      <td>49.50</td>\n",
       "      <td>141.13</td>\n",
       "      <td>45.81</td>\n",
       "      <td>72.86</td>\n",
       "      <td>41.10</td>\n",
       "      <td>20.33</td>\n",
       "      <td>520.00</td>\n",
       "      <td>883.75</td>\n",
       "      <td>30</td>\n",
       "      <td>11</td>\n",
       "      <td>15</td>\n",
       "    </tr>\n",
       "    <tr>\n",
       "      <th>2015-12-31</th>\n",
       "      <td>31/12/15</td>\n",
       "      <td>365.25</td>\n",
       "      <td>1.53</td>\n",
       "      <td>44.62</td>\n",
       "      <td>129.45</td>\n",
       "      <td>36.80</td>\n",
       "      <td>67.00</td>\n",
       "      <td>41.12</td>\n",
       "      <td>24.16</td>\n",
       "      <td>460.00</td>\n",
       "      <td>881.00</td>\n",
       "      <td>31</td>\n",
       "      <td>12</td>\n",
       "      <td>15</td>\n",
       "    </tr>\n",
       "    <tr>\n",
       "      <th>2016-01-31</th>\n",
       "      <td>31/01/16</td>\n",
       "      <td>359.50</td>\n",
       "      <td>1.38</td>\n",
       "      <td>37.85</td>\n",
       "      <td>135.58</td>\n",
       "      <td>36.11</td>\n",
       "      <td>67.48</td>\n",
       "      <td>41.69</td>\n",
       "      <td>22.55</td>\n",
       "      <td>472.75</td>\n",
       "      <td>870.75</td>\n",
       "      <td>31</td>\n",
       "      <td>1</td>\n",
       "      <td>16</td>\n",
       "    </tr>\n",
       "    <tr>\n",
       "      <th>2016-02-29</th>\n",
       "      <td>29/02/16</td>\n",
       "      <td>371.00</td>\n",
       "      <td>1.41</td>\n",
       "      <td>35.85</td>\n",
       "      <td>135.80</td>\n",
       "      <td>34.77</td>\n",
       "      <td>61.89</td>\n",
       "      <td>41.52</td>\n",
       "      <td>18.48</td>\n",
       "      <td>476.25</td>\n",
       "      <td>883.00</td>\n",
       "      <td>29</td>\n",
       "      <td>2</td>\n",
       "      <td>16</td>\n",
       "    </tr>\n",
       "  </tbody>\n",
       "</table>\n",
       "</div>"
      ],
      "text/plain": [
       "                Date    Corn  Ethanol  Crude Oil  Live Cattle    ADM  Bunge  \\\n",
       "Date                                                                          \n",
       "2015-10-31  31/10/15  387.75     1.57      48.40       124.00  41.69  73.43   \n",
       "2015-11-30  30/11/15  381.25     1.61      49.50       141.13  45.81  72.86   \n",
       "2015-12-31  31/12/15  365.25     1.53      44.62       129.45  36.80  67.00   \n",
       "2016-01-31  31/01/16  359.50     1.38      37.85       135.58  36.11  67.48   \n",
       "2016-02-29  29/02/16  371.00     1.41      35.85       135.80  34.77  61.89   \n",
       "\n",
       "            Con Agra  Green Plains   Wheat  Soyabean  Day  Month  Year  \n",
       "Date                                                                    \n",
       "2015-10-31     40.48         19.69  512.00    891.50   31     10    15  \n",
       "2015-11-30     41.10         20.33  520.00    883.75   30     11    15  \n",
       "2015-12-31     41.12         24.16  460.00    881.00   31     12    15  \n",
       "2016-01-31     41.69         22.55  472.75    870.75   31      1    16  \n",
       "2016-02-29     41.52         18.48  476.25    883.00   29      2    16  "
      ]
     },
     "execution_count": 95,
     "metadata": {},
     "output_type": "execute_result"
    }
   ],
   "source": [
    "data.tail()"
   ]
  },
  {
   "cell_type": "code",
   "execution_count": 96,
   "metadata": {
    "collapsed": false
   },
   "outputs": [
    {
     "data": {
      "text/plain": [
       "Date             object\n",
       "Corn            float64\n",
       "Ethanol         float64\n",
       "Crude Oil       float64\n",
       "Live Cattle     float64\n",
       "ADM             float64\n",
       "Bunge           float64\n",
       "Con Agra        float64\n",
       "Green Plains    float64\n",
       "Wheat           float64\n",
       "Soyabean        float64\n",
       "Day             float64\n",
       "Month           float64\n",
       "Year            float64\n",
       "dtype: object"
      ]
     },
     "execution_count": 96,
     "metadata": {},
     "output_type": "execute_result"
    }
   ],
   "source": [
    "data.dtypes"
   ]
  },
  {
   "cell_type": "markdown",
   "metadata": {},
   "source": [
    "#### Derive train and test samples"
   ]
  },
  {
   "cell_type": "code",
   "execution_count": 97,
   "metadata": {
    "collapsed": true
   },
   "outputs": [],
   "source": [
    "# make copy for sample selection\n",
    "df = data.copy()"
   ]
  },
  {
   "cell_type": "code",
   "execution_count": 98,
   "metadata": {
    "collapsed": false
   },
   "outputs": [
    {
     "name": "stderr",
     "output_type": "stream",
     "text": [
      "/usr/share/anaconda3/lib/python3.5/site-packages/ipykernel/__main__.py:5: SettingWithCopyWarning: \n",
      "A value is trying to be set on a copy of a slice from a DataFrame\n",
      "\n",
      "See the caveats in the documentation: http://pandas.pydata.org/pandas-docs/stable/indexing.html#indexing-view-versus-copy\n"
     ]
    }
   ],
   "source": [
    "# Train test split\n",
    "df.drop(['Date'], axis=1, inplace=True)\n",
    "X_train = df[:-12]\n",
    "y_train = X_train['Corn']\n",
    "X_train.drop(['Corn'], axis=1, inplace=True)\n",
    "\n",
    "X_test = df[-12:]"
   ]
  },
  {
   "cell_type": "code",
   "execution_count": 99,
   "metadata": {
    "collapsed": false
   },
   "outputs": [
    {
     "data": {
      "text/html": [
       "<div>\n",
       "<table border=\"1\" class=\"dataframe\">\n",
       "  <thead>\n",
       "    <tr style=\"text-align: right;\">\n",
       "      <th></th>\n",
       "      <th>Corn</th>\n",
       "      <th>Ethanol</th>\n",
       "      <th>Crude Oil</th>\n",
       "      <th>Live Cattle</th>\n",
       "      <th>ADM</th>\n",
       "      <th>Bunge</th>\n",
       "      <th>Con Agra</th>\n",
       "      <th>Green Plains</th>\n",
       "      <th>Wheat</th>\n",
       "      <th>Soyabean</th>\n",
       "      <th>Day</th>\n",
       "      <th>Month</th>\n",
       "      <th>Year</th>\n",
       "    </tr>\n",
       "    <tr>\n",
       "      <th>Date</th>\n",
       "      <th></th>\n",
       "      <th></th>\n",
       "      <th></th>\n",
       "      <th></th>\n",
       "      <th></th>\n",
       "      <th></th>\n",
       "      <th></th>\n",
       "      <th></th>\n",
       "      <th></th>\n",
       "      <th></th>\n",
       "      <th></th>\n",
       "      <th></th>\n",
       "      <th></th>\n",
       "    </tr>\n",
       "  </thead>\n",
       "  <tbody>\n",
       "    <tr>\n",
       "      <th>2015-03-31</th>\n",
       "      <td>383.00</td>\n",
       "      <td>1.44</td>\n",
       "      <td>62.50</td>\n",
       "      <td>152.18</td>\n",
       "      <td>47.82</td>\n",
       "      <td>81.51</td>\n",
       "      <td>34.82</td>\n",
       "      <td>23.23</td>\n",
       "      <td>517.25</td>\n",
       "      <td>1029.75</td>\n",
       "      <td>31</td>\n",
       "      <td>3</td>\n",
       "      <td>15</td>\n",
       "    </tr>\n",
       "    <tr>\n",
       "      <th>2015-04-30</th>\n",
       "      <td>377.00</td>\n",
       "      <td>1.49</td>\n",
       "      <td>55.18</td>\n",
       "      <td>161.40</td>\n",
       "      <td>47.45</td>\n",
       "      <td>82.52</td>\n",
       "      <td>36.51</td>\n",
       "      <td>28.26</td>\n",
       "      <td>513.00</td>\n",
       "      <td>973.25</td>\n",
       "      <td>30</td>\n",
       "      <td>4</td>\n",
       "      <td>15</td>\n",
       "    </tr>\n",
       "    <tr>\n",
       "      <th>2015-05-31</th>\n",
       "      <td>362.50</td>\n",
       "      <td>1.63</td>\n",
       "      <td>66.78</td>\n",
       "      <td>149.50</td>\n",
       "      <td>48.91</td>\n",
       "      <td>86.97</td>\n",
       "      <td>36.10</td>\n",
       "      <td>31.18</td>\n",
       "      <td>469.50</td>\n",
       "      <td>979.75</td>\n",
       "      <td>31</td>\n",
       "      <td>5</td>\n",
       "      <td>15</td>\n",
       "    </tr>\n",
       "    <tr>\n",
       "      <th>2015-06-30</th>\n",
       "      <td>350.50</td>\n",
       "      <td>1.52</td>\n",
       "      <td>65.59</td>\n",
       "      <td>152.58</td>\n",
       "      <td>52.89</td>\n",
       "      <td>92.61</td>\n",
       "      <td>38.85</td>\n",
       "      <td>32.44</td>\n",
       "      <td>478.00</td>\n",
       "      <td>931.00</td>\n",
       "      <td>30</td>\n",
       "      <td>6</td>\n",
       "      <td>15</td>\n",
       "    </tr>\n",
       "    <tr>\n",
       "      <th>2015-07-31</th>\n",
       "      <td>411.00</td>\n",
       "      <td>1.62</td>\n",
       "      <td>63.02</td>\n",
       "      <td>148.40</td>\n",
       "      <td>48.71</td>\n",
       "      <td>88.40</td>\n",
       "      <td>43.90</td>\n",
       "      <td>27.80</td>\n",
       "      <td>611.50</td>\n",
       "      <td>1053.50</td>\n",
       "      <td>31</td>\n",
       "      <td>7</td>\n",
       "      <td>15</td>\n",
       "    </tr>\n",
       "    <tr>\n",
       "      <th>2015-08-31</th>\n",
       "      <td>370.00</td>\n",
       "      <td>1.48</td>\n",
       "      <td>51.55</td>\n",
       "      <td>147.45</td>\n",
       "      <td>47.42</td>\n",
       "      <td>79.72</td>\n",
       "      <td>44.01</td>\n",
       "      <td>22.22</td>\n",
       "      <td>497.25</td>\n",
       "      <td>978.00</td>\n",
       "      <td>31</td>\n",
       "      <td>8</td>\n",
       "      <td>15</td>\n",
       "    </tr>\n",
       "    <tr>\n",
       "      <th>2015-09-30</th>\n",
       "      <td>362.50</td>\n",
       "      <td>1.47</td>\n",
       "      <td>52.92</td>\n",
       "      <td>142.83</td>\n",
       "      <td>43.98</td>\n",
       "      <td>71.50</td>\n",
       "      <td>40.98</td>\n",
       "      <td>20.61</td>\n",
       "      <td>482.00</td>\n",
       "      <td>891.75</td>\n",
       "      <td>30</td>\n",
       "      <td>9</td>\n",
       "      <td>15</td>\n",
       "    </tr>\n",
       "    <tr>\n",
       "      <th>2015-10-31</th>\n",
       "      <td>387.75</td>\n",
       "      <td>1.57</td>\n",
       "      <td>48.40</td>\n",
       "      <td>124.00</td>\n",
       "      <td>41.69</td>\n",
       "      <td>73.43</td>\n",
       "      <td>40.48</td>\n",
       "      <td>19.69</td>\n",
       "      <td>512.00</td>\n",
       "      <td>891.50</td>\n",
       "      <td>31</td>\n",
       "      <td>10</td>\n",
       "      <td>15</td>\n",
       "    </tr>\n",
       "    <tr>\n",
       "      <th>2015-11-30</th>\n",
       "      <td>381.25</td>\n",
       "      <td>1.61</td>\n",
       "      <td>49.50</td>\n",
       "      <td>141.13</td>\n",
       "      <td>45.81</td>\n",
       "      <td>72.86</td>\n",
       "      <td>41.10</td>\n",
       "      <td>20.33</td>\n",
       "      <td>520.00</td>\n",
       "      <td>883.75</td>\n",
       "      <td>30</td>\n",
       "      <td>11</td>\n",
       "      <td>15</td>\n",
       "    </tr>\n",
       "    <tr>\n",
       "      <th>2015-12-31</th>\n",
       "      <td>365.25</td>\n",
       "      <td>1.53</td>\n",
       "      <td>44.62</td>\n",
       "      <td>129.45</td>\n",
       "      <td>36.80</td>\n",
       "      <td>67.00</td>\n",
       "      <td>41.12</td>\n",
       "      <td>24.16</td>\n",
       "      <td>460.00</td>\n",
       "      <td>881.00</td>\n",
       "      <td>31</td>\n",
       "      <td>12</td>\n",
       "      <td>15</td>\n",
       "    </tr>\n",
       "    <tr>\n",
       "      <th>2016-01-31</th>\n",
       "      <td>359.50</td>\n",
       "      <td>1.38</td>\n",
       "      <td>37.85</td>\n",
       "      <td>135.58</td>\n",
       "      <td>36.11</td>\n",
       "      <td>67.48</td>\n",
       "      <td>41.69</td>\n",
       "      <td>22.55</td>\n",
       "      <td>472.75</td>\n",
       "      <td>870.75</td>\n",
       "      <td>31</td>\n",
       "      <td>1</td>\n",
       "      <td>16</td>\n",
       "    </tr>\n",
       "    <tr>\n",
       "      <th>2016-02-29</th>\n",
       "      <td>371.00</td>\n",
       "      <td>1.41</td>\n",
       "      <td>35.85</td>\n",
       "      <td>135.80</td>\n",
       "      <td>34.77</td>\n",
       "      <td>61.89</td>\n",
       "      <td>41.52</td>\n",
       "      <td>18.48</td>\n",
       "      <td>476.25</td>\n",
       "      <td>883.00</td>\n",
       "      <td>29</td>\n",
       "      <td>2</td>\n",
       "      <td>16</td>\n",
       "    </tr>\n",
       "  </tbody>\n",
       "</table>\n",
       "</div>"
      ],
      "text/plain": [
       "              Corn  Ethanol  Crude Oil  Live Cattle    ADM  Bunge  Con Agra  \\\n",
       "Date                                                                          \n",
       "2015-03-31  383.00     1.44      62.50       152.18  47.82  81.51     34.82   \n",
       "2015-04-30  377.00     1.49      55.18       161.40  47.45  82.52     36.51   \n",
       "2015-05-31  362.50     1.63      66.78       149.50  48.91  86.97     36.10   \n",
       "2015-06-30  350.50     1.52      65.59       152.58  52.89  92.61     38.85   \n",
       "2015-07-31  411.00     1.62      63.02       148.40  48.71  88.40     43.90   \n",
       "2015-08-31  370.00     1.48      51.55       147.45  47.42  79.72     44.01   \n",
       "2015-09-30  362.50     1.47      52.92       142.83  43.98  71.50     40.98   \n",
       "2015-10-31  387.75     1.57      48.40       124.00  41.69  73.43     40.48   \n",
       "2015-11-30  381.25     1.61      49.50       141.13  45.81  72.86     41.10   \n",
       "2015-12-31  365.25     1.53      44.62       129.45  36.80  67.00     41.12   \n",
       "2016-01-31  359.50     1.38      37.85       135.58  36.11  67.48     41.69   \n",
       "2016-02-29  371.00     1.41      35.85       135.80  34.77  61.89     41.52   \n",
       "\n",
       "            Green Plains   Wheat  Soyabean  Day  Month  Year  \n",
       "Date                                                          \n",
       "2015-03-31         23.23  517.25   1029.75   31      3    15  \n",
       "2015-04-30         28.26  513.00    973.25   30      4    15  \n",
       "2015-05-31         31.18  469.50    979.75   31      5    15  \n",
       "2015-06-30         32.44  478.00    931.00   30      6    15  \n",
       "2015-07-31         27.80  611.50   1053.50   31      7    15  \n",
       "2015-08-31         22.22  497.25    978.00   31      8    15  \n",
       "2015-09-30         20.61  482.00    891.75   30      9    15  \n",
       "2015-10-31         19.69  512.00    891.50   31     10    15  \n",
       "2015-11-30         20.33  520.00    883.75   30     11    15  \n",
       "2015-12-31         24.16  460.00    881.00   31     12    15  \n",
       "2016-01-31         22.55  472.75    870.75   31      1    16  \n",
       "2016-02-29         18.48  476.25    883.00   29      2    16  "
      ]
     },
     "execution_count": 99,
     "metadata": {},
     "output_type": "execute_result"
    }
   ],
   "source": [
    "X_test"
   ]
  },
  {
   "cell_type": "markdown",
   "metadata": {},
   "source": [
    "all those values above are not known (except the dates) at prediction time; we need to forecast those values"
   ]
  },
  {
   "cell_type": "markdown",
   "metadata": {},
   "source": [
    "#### General purpose function to apply Box-Jenkins procedure to obtain ARIMA forecasts of feature time series"
   ]
  },
  {
   "cell_type": "code",
   "execution_count": 152,
   "metadata": {
    "collapsed": true
   },
   "outputs": [],
   "source": [
    "def predict_ts(ts,name):\n",
    "    flag=True\n",
    "    d=0\n",
    "    org_ts=ts.copy()\n",
    "    #difference ts\n",
    "    while(flag):\n",
    "        regres = sm.tsa.stattools.adfuller(ts, regression='ct', regresults=True)\n",
    "        if regres[1]<0.05:\n",
    "            flag=False\n",
    "        else:\n",
    "            ts=ts.diff(1).dropna()\n",
    "            d+=1\n",
    "    #select p and q\n",
    "    try:\n",
    "        pqselect = sm.tsa.stattools.arma_order_select_ic(ts)\n",
    "        p,q=pqselect.bic_min_order\n",
    "        if p==0 and q==0:\n",
    "            p=0\n",
    "            q=5\n",
    "    except:\n",
    "        p=0\n",
    "        q=5\n",
    "    try:\n",
    "        arima = sm.tsa.ARIMA(org_ts,(p,d,q)).fit()\n",
    "    except:\n",
    "        arima = sm.tsa.ARIMA(org_ts,(p,d+1,q)).fit()\n",
    "    dw = sm.stats.durbin_watson(arima.resid.values)\n",
    "    forecast = arima.forecast(12)[0]\n",
    "    return {'name':name, 'prediction':forecast, 'spec': (p,d,q), 'dw': dw}"
   ]
  },
  {
   "cell_type": "markdown",
   "metadata": {},
   "source": [
    "Create a new dataframe to store forecasted values of feature time series"
   ]
  },
  {
   "cell_type": "code",
   "execution_count": 153,
   "metadata": {
    "collapsed": false
   },
   "outputs": [],
   "source": [
    "df_te = pd.DataFrame(index=X_test.index, columns=X_test.columns)"
   ]
  },
  {
   "cell_type": "markdown",
   "metadata": {},
   "source": [
    "Can copy date features as those can be inferred"
   ]
  },
  {
   "cell_type": "code",
   "execution_count": 154,
   "metadata": {
    "collapsed": false
   },
   "outputs": [],
   "source": [
    "df_te['Day']=X_test['Day']\n",
    "df_te['Month']=X_test['Month']\n",
    "df_te['Year']=X_test['Year']"
   ]
  },
  {
   "cell_type": "markdown",
   "metadata": {},
   "source": [
    "Fill in the new feature matrix"
   ]
  },
  {
   "cell_type": "code",
   "execution_count": 155,
   "metadata": {
    "collapsed": false
   },
   "outputs": [
    {
     "name": "stderr",
     "output_type": "stream",
     "text": [
      "/usr/share/anaconda3/lib/python3.5/site-packages/statsmodels/base/model.py:466: ConvergenceWarning: Maximum Likelihood optimization failed to converge. Check mle_retvals\n",
      "  \"Check mle_retvals\", ConvergenceWarning)\n",
      "/usr/share/anaconda3/lib/python3.5/site-packages/statsmodels/base/model.py:466: ConvergenceWarning: Maximum Likelihood optimization failed to converge. Check mle_retvals\n",
      "  \"Check mle_retvals\", ConvergenceWarning)\n",
      "/usr/share/anaconda3/lib/python3.5/site-packages/statsmodels/base/model.py:466: ConvergenceWarning: Maximum Likelihood optimization failed to converge. Check mle_retvals\n",
      "  \"Check mle_retvals\", ConvergenceWarning)\n",
      "/usr/share/anaconda3/lib/python3.5/site-packages/statsmodels/base/model.py:466: ConvergenceWarning: Maximum Likelihood optimization failed to converge. Check mle_retvals\n",
      "  \"Check mle_retvals\", ConvergenceWarning)\n",
      "/usr/share/anaconda3/lib/python3.5/site-packages/statsmodels/base/model.py:466: ConvergenceWarning: Maximum Likelihood optimization failed to converge. Check mle_retvals\n",
      "  \"Check mle_retvals\", ConvergenceWarning)\n",
      "/usr/share/anaconda3/lib/python3.5/site-packages/statsmodels/base/model.py:466: ConvergenceWarning: Maximum Likelihood optimization failed to converge. Check mle_retvals\n",
      "  \"Check mle_retvals\", ConvergenceWarning)\n",
      "/usr/share/anaconda3/lib/python3.5/site-packages/statsmodels/base/model.py:466: ConvergenceWarning: Maximum Likelihood optimization failed to converge. Check mle_retvals\n",
      "  \"Check mle_retvals\", ConvergenceWarning)\n",
      "/usr/share/anaconda3/lib/python3.5/site-packages/statsmodels/base/model.py:466: ConvergenceWarning: Maximum Likelihood optimization failed to converge. Check mle_retvals\n",
      "  \"Check mle_retvals\", ConvergenceWarning)\n",
      "/usr/share/anaconda3/lib/python3.5/site-packages/statsmodels/base/model.py:466: ConvergenceWarning: Maximum Likelihood optimization failed to converge. Check mle_retvals\n",
      "  \"Check mle_retvals\", ConvergenceWarning)\n",
      "/usr/share/anaconda3/lib/python3.5/site-packages/statsmodels/base/model.py:466: ConvergenceWarning: Maximum Likelihood optimization failed to converge. Check mle_retvals\n",
      "  \"Check mle_retvals\", ConvergenceWarning)\n",
      "/usr/share/anaconda3/lib/python3.5/site-packages/statsmodels/base/model.py:466: ConvergenceWarning: Maximum Likelihood optimization failed to converge. Check mle_retvals\n",
      "  \"Check mle_retvals\", ConvergenceWarning)\n",
      "/usr/share/anaconda3/lib/python3.5/site-packages/statsmodels/base/model.py:466: ConvergenceWarning: Maximum Likelihood optimization failed to converge. Check mle_retvals\n",
      "  \"Check mle_retvals\", ConvergenceWarning)\n",
      "/usr/share/anaconda3/lib/python3.5/site-packages/statsmodels/base/model.py:466: ConvergenceWarning: Maximum Likelihood optimization failed to converge. Check mle_retvals\n",
      "  \"Check mle_retvals\", ConvergenceWarning)\n",
      "/usr/share/anaconda3/lib/python3.5/site-packages/statsmodels/base/model.py:466: ConvergenceWarning: Maximum Likelihood optimization failed to converge. Check mle_retvals\n",
      "  \"Check mle_retvals\", ConvergenceWarning)\n",
      "/usr/share/anaconda3/lib/python3.5/site-packages/statsmodels/base/model.py:466: ConvergenceWarning: Maximum Likelihood optimization failed to converge. Check mle_retvals\n",
      "  \"Check mle_retvals\", ConvergenceWarning)\n",
      "/usr/share/anaconda3/lib/python3.5/site-packages/statsmodels/base/model.py:466: ConvergenceWarning: Maximum Likelihood optimization failed to converge. Check mle_retvals\n",
      "  \"Check mle_retvals\", ConvergenceWarning)\n"
     ]
    }
   ],
   "source": [
    "list_of_results=[]\n",
    "for feat in ['Ethanol', 'Crude Oil', 'Live Cattle', 'ADM', 'Bunge', 'Con Agra', 'Green Plains', 'Green Plains',\n",
    "             'Wheat','Soyabean']:\n",
    "    res = predict_ts(X_train[feat], feat)\n",
    "    list_of_results.append(res)\n",
    "    df_te[feat]=res['prediction']"
   ]
  },
  {
   "cell_type": "markdown",
   "metadata": {},
   "source": [
    "#### Forecasted values:"
   ]
  },
  {
   "cell_type": "code",
   "execution_count": 156,
   "metadata": {
    "collapsed": false,
    "scrolled": true
   },
   "outputs": [
    {
     "data": {
      "text/html": [
       "<div>\n",
       "<table border=\"1\" class=\"dataframe\">\n",
       "  <thead>\n",
       "    <tr style=\"text-align: right;\">\n",
       "      <th></th>\n",
       "      <th>Corn</th>\n",
       "      <th>Ethanol</th>\n",
       "      <th>Crude Oil</th>\n",
       "      <th>Live Cattle</th>\n",
       "      <th>ADM</th>\n",
       "      <th>Bunge</th>\n",
       "      <th>Con Agra</th>\n",
       "      <th>Green Plains</th>\n",
       "      <th>Wheat</th>\n",
       "      <th>Soyabean</th>\n",
       "      <th>Day</th>\n",
       "      <th>Month</th>\n",
       "      <th>Year</th>\n",
       "    </tr>\n",
       "    <tr>\n",
       "      <th>Date</th>\n",
       "      <th></th>\n",
       "      <th></th>\n",
       "      <th></th>\n",
       "      <th></th>\n",
       "      <th></th>\n",
       "      <th></th>\n",
       "      <th></th>\n",
       "      <th></th>\n",
       "      <th></th>\n",
       "      <th></th>\n",
       "      <th></th>\n",
       "      <th></th>\n",
       "      <th></th>\n",
       "    </tr>\n",
       "  </thead>\n",
       "  <tbody>\n",
       "    <tr>\n",
       "      <th>2015-03-31</th>\n",
       "      <td>NaN</td>\n",
       "      <td>1.567223</td>\n",
       "      <td>50.634136</td>\n",
       "      <td>154.214957</td>\n",
       "      <td>46.304555</td>\n",
       "      <td>90.203766</td>\n",
       "      <td>35.853304</td>\n",
       "      <td>24.076855</td>\n",
       "      <td>473.234959</td>\n",
       "      <td>990.814076</td>\n",
       "      <td>31</td>\n",
       "      <td>3</td>\n",
       "      <td>15</td>\n",
       "    </tr>\n",
       "    <tr>\n",
       "      <th>2015-04-30</th>\n",
       "      <td>NaN</td>\n",
       "      <td>1.699310</td>\n",
       "      <td>49.815050</td>\n",
       "      <td>156.571901</td>\n",
       "      <td>47.478204</td>\n",
       "      <td>90.609040</td>\n",
       "      <td>36.326636</td>\n",
       "      <td>24.106427</td>\n",
       "      <td>514.463675</td>\n",
       "      <td>989.645207</td>\n",
       "      <td>30</td>\n",
       "      <td>4</td>\n",
       "      <td>15</td>\n",
       "    </tr>\n",
       "    <tr>\n",
       "      <th>2015-05-31</th>\n",
       "      <td>NaN</td>\n",
       "      <td>1.797656</td>\n",
       "      <td>49.452831</td>\n",
       "      <td>157.386165</td>\n",
       "      <td>46.590952</td>\n",
       "      <td>91.015821</td>\n",
       "      <td>36.904162</td>\n",
       "      <td>24.307256</td>\n",
       "      <td>506.985234</td>\n",
       "      <td>998.151414</td>\n",
       "      <td>31</td>\n",
       "      <td>5</td>\n",
       "      <td>15</td>\n",
       "    </tr>\n",
       "    <tr>\n",
       "      <th>2015-06-30</th>\n",
       "      <td>NaN</td>\n",
       "      <td>1.870780</td>\n",
       "      <td>49.260756</td>\n",
       "      <td>157.799989</td>\n",
       "      <td>46.634931</td>\n",
       "      <td>91.424110</td>\n",
       "      <td>36.724196</td>\n",
       "      <td>24.496798</td>\n",
       "      <td>527.116756</td>\n",
       "      <td>1002.093959</td>\n",
       "      <td>30</td>\n",
       "      <td>6</td>\n",
       "      <td>15</td>\n",
       "    </tr>\n",
       "    <tr>\n",
       "      <th>2015-07-31</th>\n",
       "      <td>NaN</td>\n",
       "      <td>1.925051</td>\n",
       "      <td>49.132044</td>\n",
       "      <td>160.098800</td>\n",
       "      <td>47.768967</td>\n",
       "      <td>91.833906</td>\n",
       "      <td>36.502100</td>\n",
       "      <td>24.726435</td>\n",
       "      <td>504.899658</td>\n",
       "      <td>1007.610186</td>\n",
       "      <td>31</td>\n",
       "      <td>7</td>\n",
       "      <td>15</td>\n",
       "    </tr>\n",
       "  </tbody>\n",
       "</table>\n",
       "</div>"
      ],
      "text/plain": [
       "           Corn   Ethanol  Crude Oil  Live Cattle        ADM      Bunge  \\\n",
       "Date                                                                      \n",
       "2015-03-31  NaN  1.567223  50.634136   154.214957  46.304555  90.203766   \n",
       "2015-04-30  NaN  1.699310  49.815050   156.571901  47.478204  90.609040   \n",
       "2015-05-31  NaN  1.797656  49.452831   157.386165  46.590952  91.015821   \n",
       "2015-06-30  NaN  1.870780  49.260756   157.799989  46.634931  91.424110   \n",
       "2015-07-31  NaN  1.925051  49.132044   160.098800  47.768967  91.833906   \n",
       "\n",
       "             Con Agra  Green Plains       Wheat     Soyabean  Day  Month  Year  \n",
       "Date                                                                            \n",
       "2015-03-31  35.853304     24.076855  473.234959   990.814076   31      3    15  \n",
       "2015-04-30  36.326636     24.106427  514.463675   989.645207   30      4    15  \n",
       "2015-05-31  36.904162     24.307256  506.985234   998.151414   31      5    15  \n",
       "2015-06-30  36.724196     24.496798  527.116756  1002.093959   30      6    15  \n",
       "2015-07-31  36.502100     24.726435  504.899658  1007.610186   31      7    15  "
      ]
     },
     "execution_count": 156,
     "metadata": {},
     "output_type": "execute_result"
    }
   ],
   "source": [
    "df_te.head()"
   ]
  },
  {
   "cell_type": "code",
   "execution_count": 157,
   "metadata": {
    "collapsed": true
   },
   "outputs": [],
   "source": [
    "df_te.drop('Corn', axis=1, inplace=True)"
   ]
  },
  {
   "cell_type": "markdown",
   "metadata": {},
   "source": [
    "#### Configure XGBoost"
   ]
  },
  {
   "cell_type": "code",
   "execution_count": 171,
   "metadata": {
    "collapsed": false
   },
   "outputs": [],
   "source": [
    "param={\n",
    "    'objective': 'reg:linear',\n",
    "    'base_score': 0.5,\n",
    "    'missing': None,\n",
    "    'nthread': -1,\n",
    "    'reg_alpha': 0,\n",
    "    'reg_lambda': 0.1,\n",
    "    'seed': 1,\n",
    "    'silent': 0,\n",
    "}"
   ]
  },
  {
   "cell_type": "markdown",
   "metadata": {},
   "source": [
    "Build xgboost model"
   ]
  },
  {
   "cell_type": "code",
   "execution_count": 172,
   "metadata": {
    "collapsed": false
   },
   "outputs": [],
   "source": [
    "xgb_model = xgb.XGBRegressor(**param)\n",
    "clf = xgb_model.fit(X_train,y_train)"
   ]
  },
  {
   "cell_type": "code",
   "execution_count": 173,
   "metadata": {
    "collapsed": false
   },
   "outputs": [
    {
     "name": "stdout",
     "output_type": "stream",
     "text": [
      "XGBoost Train Accuracy: 0.9989\n"
     ]
    }
   ],
   "source": [
    "tr_accuracy = clf.score(X_train,y_train)\n",
    "print(\"XGBoost Train Accuracy: {:.4f}\".format(tr_accuracy))\n",
    "# 0.8309"
   ]
  },
  {
   "cell_type": "code",
   "execution_count": 174,
   "metadata": {
    "collapsed": false
   },
   "outputs": [
    {
     "data": {
      "text/plain": [
       "<matplotlib.axes._subplots.AxesSubplot at 0x7f36b80e0be0>"
      ]
     },
     "execution_count": 174,
     "metadata": {},
     "output_type": "execute_result"
    },
    {
     "data": {
      "text/plain": [
       "<matplotlib.figure.Figure at 0x7f36b80dd390>"
      ]
     },
     "metadata": {},
     "output_type": "display_data"
    },
    {
     "data": {
      "image/png": "[encoded data removed]",
      "text/plain": [
       "<matplotlib.figure.Figure at 0x7f36b80dd470>"
      ]
     },
     "metadata": {},
     "output_type": "display_data"
    }
   ],
   "source": [
    "plt.figure(figsize=(20,15))\n",
    "xgb.plot_importance(clf,color='#b45e62')"
   ]
  },
  {
   "cell_type": "markdown",
   "metadata": {},
   "source": [
    "This is real time series of corn prices in the test set:"
   ]
  },
  {
   "cell_type": "code",
   "execution_count": 175,
   "metadata": {
    "collapsed": false
   },
   "outputs": [
    {
     "data": {
      "text/plain": [
       "Date\n",
       "2015-03-31    383.00\n",
       "2015-04-30    377.00\n",
       "2015-05-31    362.50\n",
       "2015-06-30    350.50\n",
       "2015-07-31    411.00\n",
       "2015-08-31    370.00\n",
       "2015-09-30    362.50\n",
       "2015-10-31    387.75\n",
       "2015-11-30    381.25\n",
       "2015-12-31    365.25\n",
       "2016-01-31    359.50\n",
       "2016-02-29    371.00\n",
       "Name: Corn, dtype: float64"
      ]
     },
     "execution_count": 175,
     "metadata": {},
     "output_type": "execute_result"
    }
   ],
   "source": [
    "X_test['Corn']"
   ]
  },
  {
   "cell_type": "code",
   "execution_count": 176,
   "metadata": {
    "collapsed": false
   },
   "outputs": [],
   "source": [
    "pred = clf.predict(df_te)"
   ]
  },
  {
   "cell_type": "markdown",
   "metadata": {},
   "source": [
    "Those are predicted values based on xgboost model and forecasted features:"
   ]
  },
  {
   "cell_type": "code",
   "execution_count": 177,
   "metadata": {
    "collapsed": false
   },
   "outputs": [
    {
     "data": {
      "text/plain": [
       "array([ 378.49481201,  372.75744629,  377.89331055,  380.18914795,\n",
       "        370.50238037,  368.6619873 ,  369.42169189,  370.55703735,\n",
       "        373.38235474,  374.81079102,  381.23071289,  381.75900269], dtype=float32)"
      ]
     },
     "execution_count": 177,
     "metadata": {},
     "output_type": "execute_result"
    }
   ],
   "source": [
    "pred"
   ]
  },
  {
   "cell_type": "markdown",
   "metadata": {},
   "source": [
    "#### Evaluate performance"
   ]
  },
  {
   "cell_type": "code",
   "execution_count": 178,
   "metadata": {
    "collapsed": false
   },
   "outputs": [],
   "source": [
    "def evaluate_prediction(te_data,predict):\n",
    "    err = np.subtract(te_data.values.flatten(), predict.flatten())\n",
    "    abserr = np.absolute(err)\n",
    "    mae = np.mean(abserr)\n",
    "    perc_err = np.divide(abserr, te_data.values.flatten())\n",
    "    perc_mae = np.mean(perc_err)\n",
    "    return mae, perc_mae"
   ]
  },
  {
   "cell_type": "code",
   "execution_count": 179,
   "metadata": {
    "collapsed": false
   },
   "outputs": [],
   "source": [
    "mae, perc_mae = evaluate_prediction(X_test['Corn'], pred)"
   ]
  },
  {
   "cell_type": "code",
   "execution_count": 180,
   "metadata": {
    "collapsed": false
   },
   "outputs": [
    {
     "data": {
      "text/plain": [
       "14.141553243001303"
      ]
     },
     "execution_count": 180,
     "metadata": {},
     "output_type": "execute_result"
    }
   ],
   "source": [
    "mae"
   ]
  },
  {
   "cell_type": "code",
   "execution_count": 181,
   "metadata": {
    "collapsed": false
   },
   "outputs": [
    {
     "data": {
      "text/plain": [
       "0.037669213401643059"
      ]
     },
     "execution_count": 181,
     "metadata": {},
     "output_type": "execute_result"
    }
   ],
   "source": [
    "perc_mae"
   ]
  },
  {
   "cell_type": "markdown",
   "metadata": {},
   "source": [
    "This is the specifications of the ARIMA models used to derive forecasts of commodity prices time- series"
   ]
  },
  {
   "cell_type": "code",
   "execution_count": 182,
   "metadata": {
    "collapsed": false
   },
   "outputs": [
    {
     "data": {
      "text/plain": [
       "[{'dw': 2.1122330028894183,\n",
       "  'name': 'Ethanol',\n",
       "  'prediction': array([ 1.56722332,  1.69931014,  1.79765631,  1.87078049,  1.9250506 ,\n",
       "          1.96522682,  1.99486752,  2.01663264,  2.03251057,  2.04398769,\n",
       "          2.05217508,  2.05790332]),\n",
       "  'spec': (1, 1, 1)},\n",
       " {'dw': 2.0202342406913854,\n",
       "  'name': 'Crude Oil',\n",
       "  'prediction': array([ 50.63413605,  49.81504997,  49.45283145,  49.26075618,\n",
       "          49.13204441,  49.02693001,  48.93060356,  48.83754985,\n",
       "          48.74571496,  48.65433397,  48.56312202,  48.47197302]),\n",
       "  'spec': (1, 1, 0)},\n",
       " {'dw': 1.9321332576300958,\n",
       "  'name': 'Live Cattle',\n",
       "  'prediction': array([ 154.21495671,  156.57190099,  157.38616457,  157.79998904,\n",
       "          160.09880034,  160.77762832,  161.45645629,  162.13528427,\n",
       "          162.81411225,  163.49294023,  164.1717682 ,  164.85059618]),\n",
       "  'spec': (0, 1, 5)},\n",
       " {'dw': 1.9199746710056829,\n",
       "  'name': 'ADM',\n",
       "  'prediction': array([ 46.30455515,  47.4782037 ,  46.59095205,  46.63493149,\n",
       "          47.76896745,  47.89503397,  48.02110049,  48.14716701,\n",
       "          48.27323354,  48.39930006,  48.52536658,  48.6514331 ]),\n",
       "  'spec': (0, 1, 5)},\n",
       " {'dw': 1.7426420233471522,\n",
       "  'name': 'Bunge',\n",
       "  'prediction': array([ 90.20376607,  90.6090397 ,  91.0158209 ,  91.42410967,\n",
       "          91.83390601,  92.24520991,  92.65802138,  93.07234042,\n",
       "          93.48816703,  93.90550121,  94.32434295,  94.74469226]),\n",
       "  'spec': (0, 2, 1)},\n",
       " {'dw': 2.0558387346031104,\n",
       "  'name': 'Con Agra',\n",
       "  'prediction': array([ 35.85330374,  36.32663567,  36.90416194,  36.72419565,\n",
       "          36.50210022,  36.63335154,  36.76460286,  36.89585418,\n",
       "          37.0271055 ,  37.15835682,  37.28960814,  37.42085946]),\n",
       "  'spec': (0, 1, 5)},\n",
       " {'dw': 0.85402789970418369,\n",
       "  'name': 'Green Plains',\n",
       "  'prediction': array([ 24.07685523,  24.10642685,  24.30725568,  24.49679838,\n",
       "          24.72643501,  24.98170375,  25.26667513,  25.58020342,\n",
       "          25.92261112,  26.29380745,  26.69381796,  27.12263546]),\n",
       "  'spec': (1, 1, 1)},\n",
       " {'dw': 0.85402789970418369,\n",
       "  'name': 'Green Plains',\n",
       "  'prediction': array([ 24.07685523,  24.10642685,  24.30725568,  24.49679838,\n",
       "          24.72643501,  24.98170375,  25.26667513,  25.58020342,\n",
       "          25.92261112,  26.29380745,  26.69381796,  27.12263546]),\n",
       "  'spec': (1, 1, 1)},\n",
       " {'dw': 1.9926494225574936,\n",
       "  'name': 'Wheat',\n",
       "  'prediction': array([ 473.2349593 ,  514.46367517,  506.98523428,  527.1167561 ,\n",
       "          504.89965814,  506.21276664,  507.52587515,  508.83898366,\n",
       "          510.15209216,  511.46520067,  512.77830917,  514.09141768]),\n",
       "  'spec': (0, 1, 5)},\n",
       " {'dw': 1.9948237752405213,\n",
       "  'name': 'Soyabean',\n",
       "  'prediction': array([  990.8140763 ,   989.64520658,   998.15141427,  1002.0939589 ,\n",
       "          1007.61018578,  1011.45505657,  1015.29992737,  1019.14479816,\n",
       "          1022.98966896,  1026.83453975,  1030.67941055,  1034.52428134]),\n",
       "  'spec': (0, 1, 5)}]"
      ]
     },
     "execution_count": 182,
     "metadata": {},
     "output_type": "execute_result"
    }
   ],
   "source": [
    "list_of_results"
   ]
  },
  {
   "cell_type": "markdown",
   "metadata": {},
   "source": [
    "## END OF NOTEBOOK"
   ]
  },
  {
   "cell_type": "markdown",
   "metadata": {},
   "source": [
    "Multilayer perceptron specification for the currently in development version of numpy"
   ]
  },
  {
   "cell_type": "code",
   "execution_count": 44,
   "metadata": {
    "collapsed": false
   },
   "outputs": [
    {
     "ename": "ImportError",
     "evalue": "cannot import name 'MLPRegressor'",
     "output_type": "error",
     "traceback": [
      "\u001b[1;31m---------------------------------------------------------------------------\u001b[0m",
      "\u001b[1;31mImportError\u001b[0m                               Traceback (most recent call last)",
      "\u001b[1;32m<ipython-input-44-9cdbf2c09243>\u001b[0m in \u001b[0;36m<module>\u001b[1;34m()\u001b[0m\n\u001b[0;32m      1\u001b[0m \u001b[1;31m#MLP Regressor\u001b[0m\u001b[1;33m\u001b[0m\u001b[1;33m\u001b[0m\u001b[0m\n\u001b[1;32m----> 2\u001b[1;33m \u001b[1;32mfrom\u001b[0m \u001b[0msklearn\u001b[0m\u001b[1;33m.\u001b[0m\u001b[0mneural_network\u001b[0m \u001b[1;32mimport\u001b[0m \u001b[0mMLPRegressor\u001b[0m\u001b[1;33m\u001b[0m\u001b[0m\n\u001b[0m",
      "\u001b[1;31mImportError\u001b[0m: cannot import name 'MLPRegressor'"
     ]
    }
   ],
   "source": [
    "#MLP Regressor\n",
    "from sklearn.neural_network import MLPRegressor"
   ]
  },
  {
   "cell_type": "code",
   "execution_count": null,
   "metadata": {
    "collapsed": true
   },
   "outputs": [],
   "source": [
    "from sklearn.preprocessing import StandardScaler\n",
    "#same scaler need to be applied to both test and train\n",
    "scaler = StandardScaler()  \n",
    "#fir on train\n",
    "scaler.fit(X_train)  \n",
    "X_train = scaler.transform(X_train)  \n",
    "# apply same transformation to test data\n",
    "X_test = scaler.transform(X_test)  "
   ]
  },
  {
   "cell_type": "code",
   "execution_count": null,
   "metadata": {
    "collapsed": true
   },
   "outputs": [],
   "source": [
    "reg = MLPRegressor(hidden_layer_sizes=(5, ), activation='relu', algorithm='l-bfgs', alpha=0.0001,\\\n",
    "                   batch_size='auto', learning_rate='constant', learning_rate_init=0.001, power_t=0.5,\\\n",
    "                   max_iter=200, shuffle=True, random_state=None, tol=0.0001, verbose=False, warm_start=False,\\\n",
    "                   momentum=0.9, nesterovs_momentum=True, early_stopping=True, validation_fraction=0.1,\\\n",
    "                   beta_1=0.9, beta_2=0.999, epsilon=1e-08)"
   ]
  },
  {
   "cell_type": "code",
   "execution_count": null,
   "metadata": {
    "collapsed": true
   },
   "outputs": [],
   "source": [
    "reg.fit(X_train, y_train)\n",
    "yhat=reg.predict(X_test)"
   ]
  }
 ],
 "metadata": {
  "kernelspec": {
   "display_name": "Python 3",
   "language": "python",
   "name": "python3"
  },
  "language_info": {
   "codemirror_mode": {
    "name": "ipython",
    "version": 3
   },
   "file_extension": ".py",
   "mimetype": "text/x-python",
   "name": "python",
   "nbconvert_exporter": "python",
   "pygments_lexer": "ipython3",
   "version": "3.5.1"
  }
 },
 "nbformat": 4,
 "nbformat_minor": 0
}
